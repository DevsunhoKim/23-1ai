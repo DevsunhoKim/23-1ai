{
 "cells": [
  {
   "cell_type": "markdown",
   "metadata": {},
   "source": [
    "# LSTM과 GRU 셀"
   ]
  },
  {
   "cell_type": "markdown",
   "metadata": {},
   "source": [
    "<table align=\"left\">\n",
    "  <td>\n",
    "    <a target=\"_blank\" href=\"https://colab.research.google.com/github/rickiepark/hg-mldl/blob/master/9-3.ipynb\"><img src=\"https://www.tensorflow.org/images/colab_logo_32px.png\" />구글 코랩에서 실행하기</a>\n",
    "  </td>\n",
    "</table>"
   ]
  },
  {
   "cell_type": "markdown",
   "metadata": {},
   "source": [
    "## LSTM 신경망 훈련하기"
   ]
  },
  {
   "cell_type": "code",
   "execution_count": 1,
   "metadata": {
    "execution": {
     "iopub.execute_input": "2020-10-12T09:05:30.590337Z",
     "iopub.status.busy": "2020-10-12T09:05:30.589154Z",
     "iopub.status.idle": "2020-10-12T09:05:40.880700Z",
     "shell.execute_reply": "2020-10-12T09:05:40.879133Z"
    }
   },
   "outputs": [],
   "source": [
    "from tensorflow.keras.datasets import imdb\n",
    "from sklearn.model_selection import train_test_split\n",
    "\n",
    "(train_input, train_target), (test_input, test_target) = imdb.load_data(\n",
    "    num_words=500)\n",
    "\n",
    "train_input, val_input, train_target, val_target = train_test_split(\n",
    "    train_input, train_target, test_size=0.2, random_state=42)"
   ]
  },
  {
   "cell_type": "code",
   "execution_count": 2,
   "metadata": {
    "execution": {
     "iopub.execute_input": "2020-10-12T09:05:40.904623Z",
     "iopub.status.busy": "2020-10-12T09:05:40.902896Z",
     "iopub.status.idle": "2020-10-12T09:05:41.543511Z",
     "shell.execute_reply": "2020-10-12T09:05:41.542251Z"
    }
   },
   "outputs": [],
   "source": [
    "from tensorflow.keras.preprocessing.sequence import pad_sequences\n",
    "\n",
    "train_seq = pad_sequences(train_input, maxlen=100)\n",
    "val_seq = pad_sequences(val_input, maxlen=100)"
   ]
  },
  {
   "cell_type": "code",
   "execution_count": 3,
   "metadata": {
    "execution": {
     "iopub.execute_input": "2020-10-12T09:05:41.551517Z",
     "iopub.status.busy": "2020-10-12T09:05:41.550145Z",
     "iopub.status.idle": "2020-10-12T09:05:43.982644Z",
     "shell.execute_reply": "2020-10-12T09:05:43.983878Z"
    }
   },
   "outputs": [
    {
     "name": "stdout",
     "output_type": "stream",
     "text": [
      "Model: \"sequential\"\n",
      "_________________________________________________________________\n",
      "Layer (type)                 Output Shape              Param #   \n",
      "=================================================================\n",
      "embedding (Embedding)        (None, 100, 16)           8000      \n",
      "_________________________________________________________________\n",
      "lstm (LSTM)                  (None, 8)                 800       \n",
      "_________________________________________________________________\n",
      "dense (Dense)                (None, 1)                 9         \n",
      "=================================================================\n",
      "Total params: 8,809\n",
      "Trainable params: 8,809\n",
      "Non-trainable params: 0\n",
      "_________________________________________________________________\n"
     ]
    }
   ],
   "source": [
    "from tensorflow import keras\n",
    "\n",
    "model = keras.Sequential()\n",
    "\n",
    "model.add(keras.layers.Embedding(500, 16, input_length=100))\n",
    "model.add(keras.layers.LSTM(8))\n",
    "model.add(keras.layers.Dense(1, activation='sigmoid'))\n",
    "\n",
    "model.summary()"
   ]
  },
  {
   "cell_type": "code",
   "execution_count": 4,
   "metadata": {
    "execution": {
     "iopub.execute_input": "2020-10-12T09:05:44.007411Z",
     "iopub.status.busy": "2020-10-12T09:05:44.005663Z",
     "iopub.status.idle": "2020-10-12T09:09:36.703760Z",
     "shell.execute_reply": "2020-10-12T09:09:36.702162Z"
    }
   },
   "outputs": [
    {
     "name": "stdout",
     "output_type": "stream",
     "text": [
      "Epoch 1/100\n",
      "313/313 [==============================] - 6s 19ms/step - loss: 0.6922 - accuracy: 0.5533 - val_loss: 0.6911 - val_accuracy: 0.6048\n",
      "Epoch 2/100\n",
      "313/313 [==============================] - 5s 17ms/step - loss: 0.6887 - accuracy: 0.6351 - val_loss: 0.6858 - val_accuracy: 0.6614\n",
      "Epoch 3/100\n",
      "313/313 [==============================] - 5s 17ms/step - loss: 0.6762 - accuracy: 0.6585 - val_loss: 0.6608 - val_accuracy: 0.7042\n",
      "Epoch 4/100\n",
      "313/313 [==============================] - 5s 16ms/step - loss: 0.6316 - accuracy: 0.7230 - val_loss: 0.6094 - val_accuracy: 0.7304\n",
      "Epoch 5/100\n",
      "313/313 [==============================] - 5s 16ms/step - loss: 0.5920 - accuracy: 0.7376 - val_loss: 0.5852 - val_accuracy: 0.7358\n",
      "Epoch 6/100\n",
      "313/313 [==============================] - 5s 17ms/step - loss: 0.5688 - accuracy: 0.7473 - val_loss: 0.5647 - val_accuracy: 0.7400\n",
      "Epoch 7/100\n",
      "313/313 [==============================] - 5s 17ms/step - loss: 0.5503 - accuracy: 0.7570 - val_loss: 0.5553 - val_accuracy: 0.7520\n",
      "Epoch 8/100\n",
      "313/313 [==============================] - 5s 16ms/step - loss: 0.5346 - accuracy: 0.7642 - val_loss: 0.5329 - val_accuracy: 0.7626\n",
      "Epoch 9/100\n",
      "313/313 [==============================] - 5s 16ms/step - loss: 0.5207 - accuracy: 0.7724 - val_loss: 0.5255 - val_accuracy: 0.7524\n",
      "Epoch 10/100\n",
      "313/313 [==============================] - 5s 16ms/step - loss: 0.5087 - accuracy: 0.7744 - val_loss: 0.5105 - val_accuracy: 0.7656\n",
      "Epoch 11/100\n",
      "313/313 [==============================] - 5s 16ms/step - loss: 0.4971 - accuracy: 0.7808 - val_loss: 0.5036 - val_accuracy: 0.7674\n",
      "Epoch 12/100\n",
      "313/313 [==============================] - 5s 17ms/step - loss: 0.4867 - accuracy: 0.7851 - val_loss: 0.4930 - val_accuracy: 0.7722\n",
      "Epoch 13/100\n",
      "313/313 [==============================] - 5s 16ms/step - loss: 0.4768 - accuracy: 0.7886 - val_loss: 0.4865 - val_accuracy: 0.7774\n",
      "Epoch 14/100\n",
      "313/313 [==============================] - 5s 16ms/step - loss: 0.4692 - accuracy: 0.7918 - val_loss: 0.4788 - val_accuracy: 0.7802\n",
      "Epoch 15/100\n",
      "313/313 [==============================] - 5s 17ms/step - loss: 0.4620 - accuracy: 0.7948 - val_loss: 0.4730 - val_accuracy: 0.7858\n",
      "Epoch 16/100\n",
      "313/313 [==============================] - 5s 17ms/step - loss: 0.4557 - accuracy: 0.7970 - val_loss: 0.4664 - val_accuracy: 0.7862\n",
      "Epoch 17/100\n",
      "313/313 [==============================] - 5s 16ms/step - loss: 0.4502 - accuracy: 0.8005 - val_loss: 0.4632 - val_accuracy: 0.7844\n",
      "Epoch 18/100\n",
      "313/313 [==============================] - 5s 16ms/step - loss: 0.4448 - accuracy: 0.8022 - val_loss: 0.4606 - val_accuracy: 0.7890\n",
      "Epoch 19/100\n",
      "313/313 [==============================] - 5s 16ms/step - loss: 0.4408 - accuracy: 0.8027 - val_loss: 0.4572 - val_accuracy: 0.7918\n",
      "Epoch 20/100\n",
      "313/313 [==============================] - 5s 16ms/step - loss: 0.4374 - accuracy: 0.8043 - val_loss: 0.4542 - val_accuracy: 0.7926\n",
      "Epoch 21/100\n",
      "313/313 [==============================] - 5s 16ms/step - loss: 0.4340 - accuracy: 0.8067 - val_loss: 0.4518 - val_accuracy: 0.7920\n",
      "Epoch 22/100\n",
      "313/313 [==============================] - 5s 17ms/step - loss: 0.4312 - accuracy: 0.8082 - val_loss: 0.4505 - val_accuracy: 0.7936\n",
      "Epoch 23/100\n",
      "313/313 [==============================] - 5s 17ms/step - loss: 0.4285 - accuracy: 0.8090 - val_loss: 0.4481 - val_accuracy: 0.7942\n",
      "Epoch 24/100\n",
      "313/313 [==============================] - 5s 16ms/step - loss: 0.4261 - accuracy: 0.8115 - val_loss: 0.4459 - val_accuracy: 0.7958\n",
      "Epoch 25/100\n",
      "313/313 [==============================] - 5s 17ms/step - loss: 0.4240 - accuracy: 0.8123 - val_loss: 0.4453 - val_accuracy: 0.7952\n",
      "Epoch 26/100\n",
      "313/313 [==============================] - 5s 16ms/step - loss: 0.4217 - accuracy: 0.8116 - val_loss: 0.4425 - val_accuracy: 0.7972\n",
      "Epoch 27/100\n",
      "313/313 [==============================] - 5s 16ms/step - loss: 0.4199 - accuracy: 0.8123 - val_loss: 0.4413 - val_accuracy: 0.7960\n",
      "Epoch 28/100\n",
      "313/313 [==============================] - 5s 16ms/step - loss: 0.4183 - accuracy: 0.8140 - val_loss: 0.4391 - val_accuracy: 0.7970\n",
      "Epoch 29/100\n",
      "313/313 [==============================] - 5s 16ms/step - loss: 0.4160 - accuracy: 0.8145 - val_loss: 0.4424 - val_accuracy: 0.7922\n",
      "Epoch 30/100\n",
      "313/313 [==============================] - 5s 16ms/step - loss: 0.4152 - accuracy: 0.8148 - val_loss: 0.4399 - val_accuracy: 0.7992\n",
      "Epoch 31/100\n",
      "313/313 [==============================] - 5s 16ms/step - loss: 0.4134 - accuracy: 0.8156 - val_loss: 0.4354 - val_accuracy: 0.7994\n",
      "Epoch 32/100\n",
      "313/313 [==============================] - 5s 16ms/step - loss: 0.4120 - accuracy: 0.8167 - val_loss: 0.4396 - val_accuracy: 0.7974\n",
      "Epoch 33/100\n",
      "313/313 [==============================] - 5s 16ms/step - loss: 0.4109 - accuracy: 0.8173 - val_loss: 0.4334 - val_accuracy: 0.8010\n",
      "Epoch 34/100\n",
      "313/313 [==============================] - 5s 17ms/step - loss: 0.4095 - accuracy: 0.8185 - val_loss: 0.4336 - val_accuracy: 0.7988\n",
      "Epoch 35/100\n",
      "313/313 [==============================] - 5s 16ms/step - loss: 0.4083 - accuracy: 0.8187 - val_loss: 0.4312 - val_accuracy: 0.8032\n",
      "Epoch 36/100\n",
      "313/313 [==============================] - 5s 16ms/step - loss: 0.4072 - accuracy: 0.8187 - val_loss: 0.4351 - val_accuracy: 0.7938\n",
      "Epoch 37/100\n",
      "313/313 [==============================] - 5s 16ms/step - loss: 0.4060 - accuracy: 0.8188 - val_loss: 0.4313 - val_accuracy: 0.8022\n",
      "Epoch 38/100\n",
      "313/313 [==============================] - 5s 16ms/step - loss: 0.4053 - accuracy: 0.8196 - val_loss: 0.4294 - val_accuracy: 0.8024\n",
      "Epoch 39/100\n",
      "313/313 [==============================] - 5s 16ms/step - loss: 0.4040 - accuracy: 0.8207 - val_loss: 0.4339 - val_accuracy: 0.7994\n",
      "Epoch 40/100\n",
      "313/313 [==============================] - 5s 16ms/step - loss: 0.4034 - accuracy: 0.8202 - val_loss: 0.4289 - val_accuracy: 0.8050\n",
      "Epoch 41/100\n",
      "313/313 [==============================] - 5s 16ms/step - loss: 0.4022 - accuracy: 0.8209 - val_loss: 0.4273 - val_accuracy: 0.8056\n",
      "Epoch 42/100\n",
      "313/313 [==============================] - 5s 17ms/step - loss: 0.4015 - accuracy: 0.8204 - val_loss: 0.4315 - val_accuracy: 0.8036\n",
      "Epoch 43/100\n",
      "313/313 [==============================] - 5s 17ms/step - loss: 0.4003 - accuracy: 0.8209 - val_loss: 0.4278 - val_accuracy: 0.8034\n",
      "Epoch 44/100\n",
      "313/313 [==============================] - 5s 16ms/step - loss: 0.3994 - accuracy: 0.8206 - val_loss: 0.4306 - val_accuracy: 0.7970\n"
     ]
    }
   ],
   "source": [
    "rmsprop = keras.optimizers.RMSprop(learning_rate=1e-4)\n",
    "model.compile(optimizer=rmsprop, loss='binary_crossentropy', \n",
    "              metrics=['accuracy'])\n",
    "\n",
    "checkpoint_cb = keras.callbacks.ModelCheckpoint('best-lstm-model.h5')\n",
    "early_stopping_cb = keras.callbacks.EarlyStopping(patience=3,\n",
    "                                                  restore_best_weights=True)\n",
    "\n",
    "history = model.fit(train_seq, train_target, epochs=100, batch_size=64,\n",
    "                    validation_data=(val_seq, val_target),\n",
    "                    callbacks=[checkpoint_cb, early_stopping_cb])"
   ]
  },
  {
   "cell_type": "code",
   "execution_count": 5,
   "metadata": {
    "execution": {
     "iopub.execute_input": "2020-10-12T09:09:36.725150Z",
     "iopub.status.busy": "2020-10-12T09:09:36.723949Z",
     "iopub.status.idle": "2020-10-12T09:09:37.618677Z",
     "shell.execute_reply": "2020-10-12T09:09:37.620018Z"
    }
   },
   "outputs": [
    {
     "data": {
      "image/png": "[encoded data removed]",
      "text/plain": [
       "<Figure size 432x288 with 1 Axes>"
      ]
     },
     "metadata": {
      "needs_background": "light"
     },
     "output_type": "display_data"
    }
   ],
   "source": [
    "import matplotlib.pyplot as plt\n",
    "\n",
    "plt.plot(history.history['loss'])\n",
    "plt.plot(history.history['val_loss'])\n",
    "plt.xlabel('epoch')\n",
    "plt.ylabel('loss')\n",
    "plt.legend(['train', 'val'])\n",
    "plt.show()"
   ]
  },
  {
   "cell_type": "markdown",
   "metadata": {},
   "source": [
    "## 순환 층에 드롭아웃 적용하기"
   ]
  },
  {
   "cell_type": "code",
   "execution_count": 6,
   "metadata": {
    "execution": {
     "iopub.execute_input": "2020-10-12T09:09:37.633391Z",
     "iopub.status.busy": "2020-10-12T09:09:37.631822Z",
     "iopub.status.idle": "2020-10-12T09:09:37.849640Z",
     "shell.execute_reply": "2020-10-12T09:09:37.850929Z"
    }
   },
   "outputs": [],
   "source": [
    "model2 = keras.Sequential()\n",
    "\n",
    "model2.add(keras.layers.Embedding(500, 16, input_length=100))\n",
    "model2.add(keras.layers.LSTM(8, dropout=0.3))\n",
    "model2.add(keras.layers.Dense(1, activation='sigmoid'))"
   ]
  },
  {
   "cell_type": "code",
   "execution_count": 7,
   "metadata": {
    "execution": {
     "iopub.execute_input": "2020-10-12T09:09:37.868353Z",
     "iopub.status.busy": "2020-10-12T09:09:37.866777Z",
     "iopub.status.idle": "2020-10-12T09:13:59.438760Z",
     "shell.execute_reply": "2020-10-12T09:13:59.440154Z"
    }
   },
   "outputs": [
    {
     "name": "stdout",
     "output_type": "stream",
     "text": [
      "Epoch 1/100\n",
      "313/313 [==============================] - 6s 18ms/step - loss: 0.6927 - accuracy: 0.5265 - val_loss: 0.6922 - val_accuracy: 0.5604\n",
      "Epoch 2/100\n",
      "313/313 [==============================] - 5s 17ms/step - loss: 0.6912 - accuracy: 0.5816 - val_loss: 0.6902 - val_accuracy: 0.6114\n",
      "Epoch 3/100\n",
      "313/313 [==============================] - 5s 16ms/step - loss: 0.6883 - accuracy: 0.6204 - val_loss: 0.6860 - val_accuracy: 0.6348\n",
      "Epoch 4/100\n",
      "313/313 [==============================] - 5s 16ms/step - loss: 0.6815 - accuracy: 0.6464 - val_loss: 0.6762 - val_accuracy: 0.6514\n",
      "Epoch 5/100\n",
      "313/313 [==============================] - 5s 16ms/step - loss: 0.6639 - accuracy: 0.6626 - val_loss: 0.6436 - val_accuracy: 0.6788\n",
      "Epoch 6/100\n",
      "313/313 [==============================] - 5s 17ms/step - loss: 0.6057 - accuracy: 0.7071 - val_loss: 0.5754 - val_accuracy: 0.7306\n",
      "Epoch 7/100\n",
      "313/313 [==============================] - 5s 17ms/step - loss: 0.5670 - accuracy: 0.7308 - val_loss: 0.5526 - val_accuracy: 0.7398\n",
      "Epoch 8/100\n",
      "313/313 [==============================] - 5s 16ms/step - loss: 0.5454 - accuracy: 0.7441 - val_loss: 0.5354 - val_accuracy: 0.7510\n",
      "Epoch 9/100\n",
      "313/313 [==============================] - 5s 17ms/step - loss: 0.5291 - accuracy: 0.7542 - val_loss: 0.5202 - val_accuracy: 0.7548\n",
      "Epoch 10/100\n",
      "313/313 [==============================] - 5s 17ms/step - loss: 0.5118 - accuracy: 0.7650 - val_loss: 0.5052 - val_accuracy: 0.7648\n",
      "Epoch 11/100\n",
      "313/313 [==============================] - 5s 17ms/step - loss: 0.4977 - accuracy: 0.7726 - val_loss: 0.4916 - val_accuracy: 0.7752\n",
      "Epoch 12/100\n",
      "313/313 [==============================] - 5s 17ms/step - loss: 0.4868 - accuracy: 0.7774 - val_loss: 0.4811 - val_accuracy: 0.7814\n",
      "Epoch 13/100\n",
      "313/313 [==============================] - 5s 16ms/step - loss: 0.4783 - accuracy: 0.7806 - val_loss: 0.4722 - val_accuracy: 0.7862\n",
      "Epoch 14/100\n",
      "313/313 [==============================] - 5s 17ms/step - loss: 0.4675 - accuracy: 0.7872 - val_loss: 0.4680 - val_accuracy: 0.7842\n",
      "Epoch 15/100\n",
      "313/313 [==============================] - 5s 17ms/step - loss: 0.4610 - accuracy: 0.7915 - val_loss: 0.4617 - val_accuracy: 0.7906\n",
      "Epoch 16/100\n",
      "313/313 [==============================] - 5s 16ms/step - loss: 0.4549 - accuracy: 0.7937 - val_loss: 0.4561 - val_accuracy: 0.7922\n",
      "Epoch 17/100\n",
      "313/313 [==============================] - 5s 17ms/step - loss: 0.4498 - accuracy: 0.7963 - val_loss: 0.4533 - val_accuracy: 0.7928\n",
      "Epoch 18/100\n",
      "313/313 [==============================] - 5s 16ms/step - loss: 0.4460 - accuracy: 0.7990 - val_loss: 0.4496 - val_accuracy: 0.7948\n",
      "Epoch 19/100\n",
      "313/313 [==============================] - 5s 16ms/step - loss: 0.4420 - accuracy: 0.8017 - val_loss: 0.4495 - val_accuracy: 0.7956\n",
      "Epoch 20/100\n",
      "313/313 [==============================] - 5s 16ms/step - loss: 0.4405 - accuracy: 0.8008 - val_loss: 0.4512 - val_accuracy: 0.7902\n",
      "Epoch 21/100\n",
      "313/313 [==============================] - 5s 16ms/step - loss: 0.4375 - accuracy: 0.8034 - val_loss: 0.4447 - val_accuracy: 0.7926\n",
      "Epoch 22/100\n",
      "313/313 [==============================] - 5s 17ms/step - loss: 0.4329 - accuracy: 0.8042 - val_loss: 0.4436 - val_accuracy: 0.7958\n",
      "Epoch 23/100\n",
      "313/313 [==============================] - 5s 16ms/step - loss: 0.4330 - accuracy: 0.8036 - val_loss: 0.4421 - val_accuracy: 0.7936\n",
      "Epoch 24/100\n",
      "313/313 [==============================] - 5s 16ms/step - loss: 0.4304 - accuracy: 0.8062 - val_loss: 0.4390 - val_accuracy: 0.7986\n",
      "Epoch 25/100\n",
      "313/313 [==============================] - 5s 17ms/step - loss: 0.4290 - accuracy: 0.8076 - val_loss: 0.4384 - val_accuracy: 0.7980\n",
      "Epoch 26/100\n",
      "313/313 [==============================] - 5s 17ms/step - loss: 0.4289 - accuracy: 0.8047 - val_loss: 0.4370 - val_accuracy: 0.7966\n",
      "Epoch 27/100\n",
      "313/313 [==============================] - 5s 17ms/step - loss: 0.4276 - accuracy: 0.8051 - val_loss: 0.4360 - val_accuracy: 0.7960\n",
      "Epoch 28/100\n",
      "313/313 [==============================] - 5s 17ms/step - loss: 0.4255 - accuracy: 0.8063 - val_loss: 0.4352 - val_accuracy: 0.7982\n",
      "Epoch 29/100\n",
      "313/313 [==============================] - 5s 17ms/step - loss: 0.4240 - accuracy: 0.8087 - val_loss: 0.4349 - val_accuracy: 0.7966\n",
      "Epoch 30/100\n",
      "313/313 [==============================] - 5s 16ms/step - loss: 0.4225 - accuracy: 0.8076 - val_loss: 0.4368 - val_accuracy: 0.7990\n",
      "Epoch 31/100\n",
      "313/313 [==============================] - 5s 16ms/step - loss: 0.4238 - accuracy: 0.8063 - val_loss: 0.4338 - val_accuracy: 0.7974\n",
      "Epoch 32/100\n",
      "313/313 [==============================] - 5s 16ms/step - loss: 0.4217 - accuracy: 0.8075 - val_loss: 0.4366 - val_accuracy: 0.7950\n",
      "Epoch 33/100\n",
      "313/313 [==============================] - 5s 16ms/step - loss: 0.4190 - accuracy: 0.8079 - val_loss: 0.4334 - val_accuracy: 0.7982\n",
      "Epoch 34/100\n",
      "313/313 [==============================] - 5s 16ms/step - loss: 0.4183 - accuracy: 0.8094 - val_loss: 0.4322 - val_accuracy: 0.8006\n",
      "Epoch 35/100\n",
      "313/313 [==============================] - 5s 17ms/step - loss: 0.4206 - accuracy: 0.8062 - val_loss: 0.4318 - val_accuracy: 0.7998\n",
      "Epoch 36/100\n",
      "313/313 [==============================] - 5s 17ms/step - loss: 0.4164 - accuracy: 0.8113 - val_loss: 0.4346 - val_accuracy: 0.8030\n",
      "Epoch 37/100\n",
      "313/313 [==============================] - 5s 17ms/step - loss: 0.4165 - accuracy: 0.8111 - val_loss: 0.4326 - val_accuracy: 0.7972\n",
      "Epoch 38/100\n",
      "313/313 [==============================] - 5s 16ms/step - loss: 0.4178 - accuracy: 0.8076 - val_loss: 0.4310 - val_accuracy: 0.7998\n",
      "Epoch 39/100\n",
      "313/313 [==============================] - 5s 16ms/step - loss: 0.4156 - accuracy: 0.8119 - val_loss: 0.4310 - val_accuracy: 0.8024\n",
      "Epoch 40/100\n",
      "313/313 [==============================] - 5s 17ms/step - loss: 0.4154 - accuracy: 0.8102 - val_loss: 0.4303 - val_accuracy: 0.8030\n",
      "Epoch 41/100\n",
      "313/313 [==============================] - 5s 16ms/step - loss: 0.4159 - accuracy: 0.8110 - val_loss: 0.4300 - val_accuracy: 0.8022\n",
      "Epoch 42/100\n",
      "313/313 [==============================] - 5s 16ms/step - loss: 0.4148 - accuracy: 0.8101 - val_loss: 0.4334 - val_accuracy: 0.7974\n",
      "Epoch 43/100\n",
      "313/313 [==============================] - 5s 17ms/step - loss: 0.4136 - accuracy: 0.8102 - val_loss: 0.4303 - val_accuracy: 0.7996\n",
      "Epoch 44/100\n",
      "313/313 [==============================] - 5s 17ms/step - loss: 0.4132 - accuracy: 0.8083 - val_loss: 0.4294 - val_accuracy: 0.8034\n",
      "Epoch 45/100\n",
      "313/313 [==============================] - 5s 17ms/step - loss: 0.4142 - accuracy: 0.8104 - val_loss: 0.4290 - val_accuracy: 0.7996\n",
      "Epoch 46/100\n",
      "313/313 [==============================] - 5s 17ms/step - loss: 0.4122 - accuracy: 0.8124 - val_loss: 0.4294 - val_accuracy: 0.8044\n",
      "Epoch 47/100\n",
      "313/313 [==============================] - 5s 16ms/step - loss: 0.4124 - accuracy: 0.8117 - val_loss: 0.4286 - val_accuracy: 0.8020\n",
      "Epoch 48/100\n",
      "313/313 [==============================] - 5s 16ms/step - loss: 0.4120 - accuracy: 0.8125 - val_loss: 0.4295 - val_accuracy: 0.8058\n",
      "Epoch 49/100\n",
      "313/313 [==============================] - 5s 16ms/step - loss: 0.4104 - accuracy: 0.8122 - val_loss: 0.4297 - val_accuracy: 0.8040\n",
      "Epoch 50/100\n",
      "313/313 [==============================] - 5s 16ms/step - loss: 0.4099 - accuracy: 0.8107 - val_loss: 0.4290 - val_accuracy: 0.8010\n"
     ]
    }
   ],
   "source": [
    "rmsprop = keras.optimizers.RMSprop(learning_rate=1e-4)\n",
    "model2.compile(optimizer=rmsprop, loss='binary_crossentropy', \n",
    "               metrics=['accuracy'])\n",
    "\n",
    "checkpoint_cb = keras.callbacks.ModelCheckpoint('best-dropout-model.h5')\n",
    "early_stopping_cb = keras.callbacks.EarlyStopping(patience=3,\n",
    "                                                  restore_best_weights=True)\n",
    "\n",
    "history = model2.fit(train_seq, train_target, epochs=100, batch_size=64,\n",
    "                     validation_data=(val_seq, val_target),\n",
    "                     callbacks=[checkpoint_cb, early_stopping_cb])"
   ]
  },
  {
   "cell_type": "code",
   "execution_count": 8,
   "metadata": {
    "execution": {
     "iopub.execute_input": "2020-10-12T09:13:59.466740Z",
     "iopub.status.busy": "2020-10-12T09:13:59.465154Z",
     "iopub.status.idle": "2020-10-12T09:14:00.055101Z",
     "shell.execute_reply": "2020-10-12T09:14:00.056561Z"
    }
   },
   "outputs": [
    {
     "data": {
      "image/png": "[encoded data removed]",
      "text/plain": [
       "<Figure size 432x288 with 1 Axes>"
      ]
     },
     "metadata": {
      "needs_background": "light"
     },
     "output_type": "display_data"
    }
   ],
   "source": [
    "plt.plot(history.history['loss'])\n",
    "plt.plot(history.history['val_loss'])\n",
    "plt.xlabel('epoch')\n",
    "plt.ylabel('loss')\n",
    "plt.legend(['train', 'val'])\n",
    "plt.show()"
   ]
  },
  {
   "cell_type": "markdown",
   "metadata": {},
   "source": [
    "## 2개의 층을 연결하기"
   ]
  },
  {
   "cell_type": "code",
   "execution_count": 9,
   "metadata": {
    "execution": {
     "iopub.execute_input": "2020-10-12T09:14:00.069924Z",
     "iopub.status.busy": "2020-10-12T09:14:00.068581Z",
     "iopub.status.idle": "2020-10-12T09:14:00.459073Z",
     "shell.execute_reply": "2020-10-12T09:14:00.460006Z"
    }
   },
   "outputs": [
    {
     "name": "stdout",
     "output_type": "stream",
     "text": [
      "Model: \"sequential_2\"\n",
      "_________________________________________________________________\n",
      "Layer (type)                 Output Shape              Param #   \n",
      "=================================================================\n",
      "embedding_2 (Embedding)      (None, 100, 16)           8000      \n",
      "_________________________________________________________________\n",
      "lstm_2 (LSTM)                (None, 100, 8)            800       \n",
      "_________________________________________________________________\n",
      "lstm_3 (LSTM)                (None, 8)                 544       \n",
      "_________________________________________________________________\n",
      "dense_2 (Dense)              (None, 1)                 9         \n",
      "=================================================================\n",
      "Total params: 9,353\n",
      "Trainable params: 9,353\n",
      "Non-trainable params: 0\n",
      "_________________________________________________________________\n"
     ]
    }
   ],
   "source": [
    "model3 = keras.Sequential()\n",
    "\n",
    "model3.add(keras.layers.Embedding(500, 16, input_length=100))\n",
    "model3.add(keras.layers.LSTM(8, dropout=0.3, return_sequences=True))\n",
    "model3.add(keras.layers.LSTM(8, dropout=0.3))\n",
    "model3.add(keras.layers.Dense(1, activation='sigmoid'))\n",
    "\n",
    "model3.summary()"
   ]
  },
  {
   "cell_type": "code",
   "execution_count": 10,
   "metadata": {
    "execution": {
     "iopub.execute_input": "2020-10-12T09:14:00.485178Z",
     "iopub.status.busy": "2020-10-12T09:14:00.483959Z",
     "iopub.status.idle": "2020-10-12T09:20:24.570047Z",
     "shell.execute_reply": "2020-10-12T09:20:24.571421Z"
    }
   },
   "outputs": [
    {
     "name": "stdout",
     "output_type": "stream",
     "text": [
      "Epoch 1/100\n",
      "313/313 [==============================] - 10s 31ms/step - loss: 0.6928 - accuracy: 0.5210 - val_loss: 0.6920 - val_accuracy: 0.5562\n",
      "Epoch 2/100\n",
      "313/313 [==============================] - 9s 29ms/step - loss: 0.6877 - accuracy: 0.5946 - val_loss: 0.6787 - val_accuracy: 0.6212\n",
      "Epoch 3/100\n",
      "313/313 [==============================] - 9s 29ms/step - loss: 0.6373 - accuracy: 0.6827 - val_loss: 0.5950 - val_accuracy: 0.7142\n",
      "Epoch 4/100\n",
      "313/313 [==============================] - 9s 29ms/step - loss: 0.5743 - accuracy: 0.7220 - val_loss: 0.5557 - val_accuracy: 0.7364\n",
      "Epoch 5/100\n",
      "313/313 [==============================] - 9s 29ms/step - loss: 0.5417 - accuracy: 0.7400 - val_loss: 0.5249 - val_accuracy: 0.7534\n",
      "Epoch 6/100\n",
      "313/313 [==============================] - 9s 29ms/step - loss: 0.5158 - accuracy: 0.7568 - val_loss: 0.5067 - val_accuracy: 0.7620\n",
      "Epoch 7/100\n",
      "313/313 [==============================] - 9s 29ms/step - loss: 0.4977 - accuracy: 0.7677 - val_loss: 0.4899 - val_accuracy: 0.7724\n",
      "Epoch 8/100\n",
      "313/313 [==============================] - 9s 29ms/step - loss: 0.4853 - accuracy: 0.7720 - val_loss: 0.4781 - val_accuracy: 0.7774\n",
      "Epoch 9/100\n",
      "313/313 [==============================] - 9s 29ms/step - loss: 0.4765 - accuracy: 0.7774 - val_loss: 0.4716 - val_accuracy: 0.7766\n",
      "Epoch 10/100\n",
      "313/313 [==============================] - 9s 29ms/step - loss: 0.4683 - accuracy: 0.7850 - val_loss: 0.4648 - val_accuracy: 0.7806\n",
      "Epoch 11/100\n",
      "313/313 [==============================] - 9s 29ms/step - loss: 0.4617 - accuracy: 0.7859 - val_loss: 0.4606 - val_accuracy: 0.7852\n",
      "Epoch 12/100\n",
      "313/313 [==============================] - 9s 29ms/step - loss: 0.4570 - accuracy: 0.7870 - val_loss: 0.4562 - val_accuracy: 0.7852\n",
      "Epoch 13/100\n",
      "313/313 [==============================] - 9s 29ms/step - loss: 0.4522 - accuracy: 0.7933 - val_loss: 0.4554 - val_accuracy: 0.7896\n",
      "Epoch 14/100\n",
      "313/313 [==============================] - 9s 29ms/step - loss: 0.4512 - accuracy: 0.7920 - val_loss: 0.4509 - val_accuracy: 0.7880\n",
      "Epoch 15/100\n",
      "313/313 [==============================] - 9s 29ms/step - loss: 0.4480 - accuracy: 0.7928 - val_loss: 0.4487 - val_accuracy: 0.7896\n",
      "Epoch 16/100\n",
      "313/313 [==============================] - 9s 29ms/step - loss: 0.4445 - accuracy: 0.7962 - val_loss: 0.4469 - val_accuracy: 0.7908\n",
      "Epoch 17/100\n",
      "313/313 [==============================] - 9s 28ms/step - loss: 0.4423 - accuracy: 0.7947 - val_loss: 0.4453 - val_accuracy: 0.7932\n",
      "Epoch 18/100\n",
      "313/313 [==============================] - 9s 29ms/step - loss: 0.4409 - accuracy: 0.7956 - val_loss: 0.4437 - val_accuracy: 0.7920\n",
      "Epoch 19/100\n",
      "313/313 [==============================] - 9s 29ms/step - loss: 0.4379 - accuracy: 0.8012 - val_loss: 0.4428 - val_accuracy: 0.7944\n",
      "Epoch 20/100\n",
      "313/313 [==============================] - 9s 28ms/step - loss: 0.4367 - accuracy: 0.7993 - val_loss: 0.4423 - val_accuracy: 0.7942\n",
      "Epoch 21/100\n",
      "313/313 [==============================] - 9s 29ms/step - loss: 0.4345 - accuracy: 0.7994 - val_loss: 0.4402 - val_accuracy: 0.7956\n",
      "Epoch 22/100\n",
      "313/313 [==============================] - 9s 29ms/step - loss: 0.4335 - accuracy: 0.8022 - val_loss: 0.4400 - val_accuracy: 0.7930\n",
      "Epoch 23/100\n",
      "313/313 [==============================] - 9s 29ms/step - loss: 0.4323 - accuracy: 0.8026 - val_loss: 0.4388 - val_accuracy: 0.7960\n",
      "Epoch 24/100\n",
      "313/313 [==============================] - 9s 29ms/step - loss: 0.4313 - accuracy: 0.8023 - val_loss: 0.4383 - val_accuracy: 0.7996\n",
      "Epoch 25/100\n",
      "313/313 [==============================] - 9s 29ms/step - loss: 0.4290 - accuracy: 0.8038 - val_loss: 0.4373 - val_accuracy: 0.7990\n",
      "Epoch 26/100\n",
      "313/313 [==============================] - 9s 29ms/step - loss: 0.4289 - accuracy: 0.8046 - val_loss: 0.4397 - val_accuracy: 0.7954\n",
      "Epoch 27/100\n",
      "313/313 [==============================] - 9s 29ms/step - loss: 0.4281 - accuracy: 0.8024 - val_loss: 0.4377 - val_accuracy: 0.7992\n",
      "Epoch 28/100\n",
      "313/313 [==============================] - 9s 29ms/step - loss: 0.4257 - accuracy: 0.8055 - val_loss: 0.4368 - val_accuracy: 0.8016\n",
      "Epoch 29/100\n",
      "313/313 [==============================] - 9s 29ms/step - loss: 0.4232 - accuracy: 0.8058 - val_loss: 0.4357 - val_accuracy: 0.7990\n",
      "Epoch 30/100\n",
      "313/313 [==============================] - 9s 29ms/step - loss: 0.4226 - accuracy: 0.8068 - val_loss: 0.4342 - val_accuracy: 0.7988\n",
      "Epoch 31/100\n",
      "313/313 [==============================] - 9s 29ms/step - loss: 0.4232 - accuracy: 0.8051 - val_loss: 0.4350 - val_accuracy: 0.7976\n",
      "Epoch 32/100\n",
      "313/313 [==============================] - 9s 29ms/step - loss: 0.4230 - accuracy: 0.8072 - val_loss: 0.4331 - val_accuracy: 0.7998\n",
      "Epoch 33/100\n",
      "313/313 [==============================] - 9s 29ms/step - loss: 0.4204 - accuracy: 0.8079 - val_loss: 0.4325 - val_accuracy: 0.8006\n",
      "Epoch 34/100\n",
      "313/313 [==============================] - 9s 29ms/step - loss: 0.4210 - accuracy: 0.8080 - val_loss: 0.4322 - val_accuracy: 0.8022\n",
      "Epoch 35/100\n",
      "313/313 [==============================] - 9s 29ms/step - loss: 0.4201 - accuracy: 0.8087 - val_loss: 0.4354 - val_accuracy: 0.7960\n",
      "Epoch 36/100\n",
      "313/313 [==============================] - 9s 29ms/step - loss: 0.4185 - accuracy: 0.8118 - val_loss: 0.4349 - val_accuracy: 0.7980\n",
      "Epoch 37/100\n",
      "313/313 [==============================] - 9s 29ms/step - loss: 0.4167 - accuracy: 0.8105 - val_loss: 0.4315 - val_accuracy: 0.8016\n",
      "Epoch 38/100\n",
      "313/313 [==============================] - 9s 29ms/step - loss: 0.4179 - accuracy: 0.8083 - val_loss: 0.4308 - val_accuracy: 0.8048\n",
      "Epoch 39/100\n",
      "313/313 [==============================] - 9s 29ms/step - loss: 0.4161 - accuracy: 0.8107 - val_loss: 0.4295 - val_accuracy: 0.8058\n",
      "Epoch 40/100\n",
      "313/313 [==============================] - 9s 29ms/step - loss: 0.4176 - accuracy: 0.8092 - val_loss: 0.4302 - val_accuracy: 0.8064\n",
      "Epoch 41/100\n",
      "313/313 [==============================] - 9s 29ms/step - loss: 0.4158 - accuracy: 0.8084 - val_loss: 0.4299 - val_accuracy: 0.8066\n",
      "Epoch 42/100\n",
      "313/313 [==============================] - 9s 29ms/step - loss: 0.4149 - accuracy: 0.8115 - val_loss: 0.4303 - val_accuracy: 0.8034\n"
     ]
    }
   ],
   "source": [
    "rmsprop = keras.optimizers.RMSprop(learning_rate=1e-4)\n",
    "model3.compile(optimizer=rmsprop, loss='binary_crossentropy', \n",
    "               metrics=['accuracy'])\n",
    "\n",
    "checkpoint_cb = keras.callbacks.ModelCheckpoint('best-2rnn-model.h5')\n",
    "early_stopping_cb = keras.callbacks.EarlyStopping(patience=3,\n",
    "                                                  restore_best_weights=True)\n",
    "\n",
    "history = model3.fit(train_seq, train_target, epochs=100, batch_size=64,\n",
    "                     validation_data=(val_seq, val_target),\n",
    "                     callbacks=[checkpoint_cb, early_stopping_cb])"
   ]
  },
  {
   "cell_type": "code",
   "execution_count": 11,
   "metadata": {
    "execution": {
     "iopub.execute_input": "2020-10-12T09:20:24.599872Z",
     "iopub.status.busy": "2020-10-12T09:20:24.598716Z",
     "iopub.status.idle": "2020-10-12T09:20:25.172291Z",
     "shell.execute_reply": "2020-10-12T09:20:25.173681Z"
    }
   },
   "outputs": [
    {
     "data": {
      "image/png": "[encoded data removed]",
      "text/plain": [
       "<Figure size 432x288 with 1 Axes>"
      ]
     },
     "metadata": {
      "needs_background": "light"
     },
     "output_type": "display_data"
    }
   ],
   "source": [
    "plt.plot(history.history['loss'])\n",
    "plt.plot(history.history['val_loss'])\n",
    "plt.xlabel('epoch')\n",
    "plt.ylabel('loss')\n",
    "plt.legend(['train', 'val'])\n",
    "plt.show()"
   ]
  },
  {
   "cell_type": "markdown",
   "metadata": {},
   "source": [
    "## GRU 신경망 훈련하기"
   ]
  },
  {
   "cell_type": "code",
   "execution_count": 12,
   "metadata": {
    "execution": {
     "iopub.execute_input": "2020-10-12T09:20:25.189832Z",
     "iopub.status.busy": "2020-10-12T09:20:25.188004Z",
     "iopub.status.idle": "2020-10-12T09:20:25.402624Z",
     "shell.execute_reply": "2020-10-12T09:20:25.401128Z"
    }
   },
   "outputs": [
    {
     "name": "stdout",
     "output_type": "stream",
     "text": [
      "Model: \"sequential_3\"\n",
      "_________________________________________________________________\n",
      "Layer (type)                 Output Shape              Param #   \n",
      "=================================================================\n",
      "embedding_3 (Embedding)      (None, 100, 16)           8000      \n",
      "_________________________________________________________________\n",
      "gru (GRU)                    (None, 8)                 624       \n",
      "_________________________________________________________________\n",
      "dense_3 (Dense)              (None, 1)                 9         \n",
      "=================================================================\n",
      "Total params: 8,633\n",
      "Trainable params: 8,633\n",
      "Non-trainable params: 0\n",
      "_________________________________________________________________\n"
     ]
    }
   ],
   "source": [
    "model4 = keras.Sequential()\n",
    "\n",
    "model4.add(keras.layers.Embedding(500, 16, input_length=100))\n",
    "model4.add(keras.layers.GRU(8))\n",
    "model4.add(keras.layers.Dense(1, activation='sigmoid'))\n",
    "\n",
    "model4.summary()"
   ]
  },
  {
   "cell_type": "code",
   "execution_count": 13,
   "metadata": {
    "execution": {
     "iopub.execute_input": "2020-10-12T09:20:25.420177Z",
     "iopub.status.busy": "2020-10-12T09:20:25.419630Z",
     "iopub.status.idle": "2020-10-12T09:25:10.574200Z",
     "shell.execute_reply": "2020-10-12T09:25:10.575704Z"
    }
   },
   "outputs": [
    {
     "name": "stdout",
     "output_type": "stream",
     "text": [
      "Epoch 1/100\n",
      "313/313 [==============================] - 6s 18ms/step - loss: 0.6920 - accuracy: 0.5372 - val_loss: 0.6913 - val_accuracy: 0.5536\n",
      "Epoch 2/100\n",
      "313/313 [==============================] - 5s 16ms/step - loss: 0.6893 - accuracy: 0.5781 - val_loss: 0.6884 - val_accuracy: 0.5852\n",
      "Epoch 3/100\n",
      "313/313 [==============================] - 5s 16ms/step - loss: 0.6849 - accuracy: 0.6055 - val_loss: 0.6832 - val_accuracy: 0.6066\n",
      "Epoch 4/100\n",
      "313/313 [==============================] - 5s 16ms/step - loss: 0.6774 - accuracy: 0.6270 - val_loss: 0.6747 - val_accuracy: 0.6192\n",
      "Epoch 5/100\n",
      "313/313 [==============================] - 5s 16ms/step - loss: 0.6652 - accuracy: 0.6429 - val_loss: 0.6612 - val_accuracy: 0.6356\n",
      "Epoch 6/100\n",
      "313/313 [==============================] - 5s 17ms/step - loss: 0.6451 - accuracy: 0.6625 - val_loss: 0.6377 - val_accuracy: 0.6610\n",
      "Epoch 7/100\n",
      "313/313 [==============================] - 5s 16ms/step - loss: 0.6077 - accuracy: 0.6883 - val_loss: 0.5891 - val_accuracy: 0.6988\n",
      "Epoch 8/100\n",
      "313/313 [==============================] - 5s 16ms/step - loss: 0.5420 - accuracy: 0.7309 - val_loss: 0.5274 - val_accuracy: 0.7424\n",
      "Epoch 9/100\n",
      "313/313 [==============================] - 5s 16ms/step - loss: 0.5047 - accuracy: 0.7582 - val_loss: 0.5043 - val_accuracy: 0.7578\n",
      "Epoch 10/100\n",
      "313/313 [==============================] - 5s 16ms/step - loss: 0.4867 - accuracy: 0.7707 - val_loss: 0.4929 - val_accuracy: 0.7628\n",
      "Epoch 11/100\n",
      "313/313 [==============================] - 5s 16ms/step - loss: 0.4725 - accuracy: 0.7788 - val_loss: 0.4769 - val_accuracy: 0.7762\n",
      "Epoch 12/100\n",
      "313/313 [==============================] - 5s 16ms/step - loss: 0.4613 - accuracy: 0.7847 - val_loss: 0.4686 - val_accuracy: 0.7810\n",
      "Epoch 13/100\n",
      "313/313 [==============================] - 5s 16ms/step - loss: 0.4523 - accuracy: 0.7908 - val_loss: 0.4641 - val_accuracy: 0.7848\n",
      "Epoch 14/100\n",
      "313/313 [==============================] - 5s 16ms/step - loss: 0.4451 - accuracy: 0.7952 - val_loss: 0.4555 - val_accuracy: 0.7862\n",
      "Epoch 15/100\n",
      "313/313 [==============================] - 5s 16ms/step - loss: 0.4392 - accuracy: 0.7993 - val_loss: 0.4516 - val_accuracy: 0.7886\n",
      "Epoch 16/100\n",
      "313/313 [==============================] - 5s 16ms/step - loss: 0.4345 - accuracy: 0.8000 - val_loss: 0.4506 - val_accuracy: 0.7938\n",
      "Epoch 17/100\n",
      "313/313 [==============================] - 5s 17ms/step - loss: 0.4313 - accuracy: 0.8045 - val_loss: 0.4474 - val_accuracy: 0.7916\n",
      "Epoch 18/100\n",
      "313/313 [==============================] - 5s 16ms/step - loss: 0.4281 - accuracy: 0.8056 - val_loss: 0.4503 - val_accuracy: 0.7858\n",
      "Epoch 19/100\n",
      "313/313 [==============================] - 5s 16ms/step - loss: 0.4254 - accuracy: 0.8086 - val_loss: 0.4440 - val_accuracy: 0.7958\n",
      "Epoch 20/100\n",
      "313/313 [==============================] - 5s 16ms/step - loss: 0.4232 - accuracy: 0.8102 - val_loss: 0.4440 - val_accuracy: 0.7930\n",
      "Epoch 21/100\n",
      "313/313 [==============================] - 5s 16ms/step - loss: 0.4218 - accuracy: 0.8116 - val_loss: 0.4436 - val_accuracy: 0.7914\n",
      "Epoch 22/100\n",
      "313/313 [==============================] - 5s 16ms/step - loss: 0.4204 - accuracy: 0.8126 - val_loss: 0.4424 - val_accuracy: 0.7948\n",
      "Epoch 23/100\n",
      "313/313 [==============================] - 5s 16ms/step - loss: 0.4193 - accuracy: 0.8109 - val_loss: 0.4414 - val_accuracy: 0.7978\n",
      "Epoch 24/100\n",
      "313/313 [==============================] - 5s 16ms/step - loss: 0.4183 - accuracy: 0.8136 - val_loss: 0.4409 - val_accuracy: 0.7956\n",
      "Epoch 25/100\n",
      "313/313 [==============================] - 5s 16ms/step - loss: 0.4175 - accuracy: 0.8146 - val_loss: 0.4412 - val_accuracy: 0.7932\n",
      "Epoch 26/100\n",
      "313/313 [==============================] - 5s 16ms/step - loss: 0.4167 - accuracy: 0.8138 - val_loss: 0.4438 - val_accuracy: 0.7908\n",
      "Epoch 27/100\n",
      "313/313 [==============================] - 5s 16ms/step - loss: 0.4159 - accuracy: 0.8130 - val_loss: 0.4402 - val_accuracy: 0.7948\n",
      "Epoch 28/100\n",
      "313/313 [==============================] - 5s 17ms/step - loss: 0.4151 - accuracy: 0.8149 - val_loss: 0.4393 - val_accuracy: 0.7954\n",
      "Epoch 29/100\n",
      "313/313 [==============================] - 5s 16ms/step - loss: 0.4148 - accuracy: 0.8142 - val_loss: 0.4395 - val_accuracy: 0.7986\n",
      "Epoch 30/100\n",
      "313/313 [==============================] - 5s 16ms/step - loss: 0.4142 - accuracy: 0.8156 - val_loss: 0.4403 - val_accuracy: 0.7984\n",
      "Epoch 31/100\n",
      "313/313 [==============================] - 5s 16ms/step - loss: 0.4140 - accuracy: 0.8154 - val_loss: 0.4389 - val_accuracy: 0.7980\n",
      "Epoch 32/100\n",
      "313/313 [==============================] - 5s 16ms/step - loss: 0.4136 - accuracy: 0.8156 - val_loss: 0.4407 - val_accuracy: 0.7958\n",
      "Epoch 33/100\n",
      "313/313 [==============================] - 5s 16ms/step - loss: 0.4128 - accuracy: 0.8159 - val_loss: 0.4381 - val_accuracy: 0.7986\n",
      "Epoch 34/100\n",
      "313/313 [==============================] - 5s 17ms/step - loss: 0.4129 - accuracy: 0.8160 - val_loss: 0.4418 - val_accuracy: 0.7974\n",
      "Epoch 35/100\n",
      "313/313 [==============================] - 5s 16ms/step - loss: 0.4126 - accuracy: 0.8149 - val_loss: 0.4379 - val_accuracy: 0.7976\n",
      "Epoch 36/100\n",
      "313/313 [==============================] - 5s 17ms/step - loss: 0.4123 - accuracy: 0.8165 - val_loss: 0.4460 - val_accuracy: 0.7954\n",
      "Epoch 37/100\n",
      "313/313 [==============================] - 5s 16ms/step - loss: 0.4118 - accuracy: 0.8158 - val_loss: 0.4375 - val_accuracy: 0.7972\n",
      "Epoch 38/100\n",
      "313/313 [==============================] - 5s 16ms/step - loss: 0.4115 - accuracy: 0.8164 - val_loss: 0.4375 - val_accuracy: 0.7968\n",
      "Epoch 39/100\n",
      "313/313 [==============================] - 5s 16ms/step - loss: 0.4113 - accuracy: 0.8162 - val_loss: 0.4390 - val_accuracy: 0.7980\n",
      "Epoch 40/100\n",
      "313/313 [==============================] - 5s 17ms/step - loss: 0.4109 - accuracy: 0.8169 - val_loss: 0.4365 - val_accuracy: 0.7970\n",
      "Epoch 41/100\n",
      "313/313 [==============================] - 5s 16ms/step - loss: 0.4105 - accuracy: 0.8164 - val_loss: 0.4411 - val_accuracy: 0.7970\n",
      "Epoch 42/100\n",
      "313/313 [==============================] - 5s 16ms/step - loss: 0.4106 - accuracy: 0.8155 - val_loss: 0.4364 - val_accuracy: 0.7992\n",
      "Epoch 43/100\n",
      "313/313 [==============================] - 5s 16ms/step - loss: 0.4103 - accuracy: 0.8166 - val_loss: 0.4366 - val_accuracy: 0.7990\n",
      "Epoch 44/100\n",
      "313/313 [==============================] - 5s 16ms/step - loss: 0.4098 - accuracy: 0.8174 - val_loss: 0.4377 - val_accuracy: 0.7972\n",
      "Epoch 45/100\n",
      "313/313 [==============================] - 5s 16ms/step - loss: 0.4097 - accuracy: 0.8165 - val_loss: 0.4362 - val_accuracy: 0.7990\n",
      "Epoch 46/100\n",
      "313/313 [==============================] - 5s 16ms/step - loss: 0.4093 - accuracy: 0.8171 - val_loss: 0.4367 - val_accuracy: 0.8006\n",
      "Epoch 47/100\n",
      "313/313 [==============================] - 5s 17ms/step - loss: 0.4095 - accuracy: 0.8174 - val_loss: 0.4349 - val_accuracy: 0.8002\n",
      "Epoch 48/100\n",
      "313/313 [==============================] - 5s 17ms/step - loss: 0.4089 - accuracy: 0.8163 - val_loss: 0.4369 - val_accuracy: 0.7976\n",
      "Epoch 49/100\n",
      "313/313 [==============================] - 5s 16ms/step - loss: 0.4090 - accuracy: 0.8158 - val_loss: 0.4346 - val_accuracy: 0.8012\n",
      "Epoch 50/100\n",
      "313/313 [==============================] - 5s 17ms/step - loss: 0.4083 - accuracy: 0.8176 - val_loss: 0.4342 - val_accuracy: 0.7992\n",
      "Epoch 51/100\n",
      "313/313 [==============================] - 5s 17ms/step - loss: 0.4079 - accuracy: 0.8173 - val_loss: 0.4350 - val_accuracy: 0.7994\n",
      "Epoch 52/100\n",
      "313/313 [==============================] - 5s 17ms/step - loss: 0.4080 - accuracy: 0.8187 - val_loss: 0.4338 - val_accuracy: 0.7994\n",
      "Epoch 53/100\n",
      "313/313 [==============================] - 5s 16ms/step - loss: 0.4079 - accuracy: 0.8170 - val_loss: 0.4344 - val_accuracy: 0.7980\n",
      "Epoch 54/100\n",
      "313/313 [==============================] - 5s 16ms/step - loss: 0.4079 - accuracy: 0.8170 - val_loss: 0.4368 - val_accuracy: 0.8000\n",
      "Epoch 55/100\n",
      "313/313 [==============================] - 5s 17ms/step - loss: 0.4072 - accuracy: 0.8167 - val_loss: 0.4350 - val_accuracy: 0.8008\n"
     ]
    }
   ],
   "source": [
    "rmsprop = keras.optimizers.RMSprop(learning_rate=1e-4)\n",
    "model4.compile(optimizer=rmsprop, loss='binary_crossentropy', \n",
    "               metrics=['accuracy'])\n",
    "\n",
    "checkpoint_cb = keras.callbacks.ModelCheckpoint('best-gru-model.h5')\n",
    "early_stopping_cb = keras.callbacks.EarlyStopping(patience=3,\n",
    "                                                  restore_best_weights=True)\n",
    "\n",
    "history = model4.fit(train_seq, train_target, epochs=100, batch_size=64,\n",
    "                     validation_data=(val_seq, val_target),\n",
    "                     callbacks=[checkpoint_cb, early_stopping_cb])"
   ]
  },
  {
   "cell_type": "code",
   "execution_count": 14,
   "metadata": {
    "execution": {
     "iopub.execute_input": "2020-10-12T09:25:10.602797Z",
     "iopub.status.busy": "2020-10-12T09:25:10.601459Z",
     "iopub.status.idle": "2020-10-12T09:25:11.203520Z",
     "shell.execute_reply": "2020-10-12T09:25:11.202193Z"
    }
   },
   "outputs": [
    {
     "data": {
      "image/png": "[encoded data removed]",
      "text/plain": [
       "<Figure size 432x288 with 1 Axes>"
      ]
     },
     "metadata": {
      "needs_background": "light"
     },
     "output_type": "display_data"
    }
   ],
   "source": [
    "plt.plot(history.history['loss'])\n",
    "plt.plot(history.history['val_loss'])\n",
    "plt.xlabel('epoch')\n",
    "plt.ylabel('loss')\n",
    "plt.legend(['train', 'val'])\n",
    "plt.show()"
   ]
  },
  {
   "cell_type": "markdown",
   "metadata": {},
   "source": [
    "## 마무리"
   ]
  },
  {
   "cell_type": "code",
   "execution_count": 15,
   "metadata": {},
   "outputs": [
    {
     "name": "stdout",
     "output_type": "stream",
     "text": [
      "782/782 [==============================] - 10s 13ms/step - loss: 0.4252 - accuracy: 0.8019\n"
     ]
    },
    {
     "data": {
      "text/plain": [
       "[0.42520672082901, 0.8019199967384338]"
      ]
     },
     "execution_count": 2,
     "metadata": {},
     "output_type": "execute_result"
    }
   ],
   "source": [
    "test_seq = pad_sequences(test_input, maxlen=100)\n",
    "\n",
    "rnn_model = keras.models.load_model('best-2rnn-model.h5')\n",
    "# 텐서플로 2.3에서는 버그(https://github.com/tensorflow/tensorflow/issues/42890) 때문에 compile() 메서드를 호출해야 합니다.\n",
    "# rnn_model.compile(optimizer='rmsprop', loss='binary_crossentropy', metrics='accuracy')\n",
    "\n",
    "rnn_model.evaluate(test_seq, test_target)"
   ]
  }
 ],
 "metadata": {
  "kernelspec": {
   "display_name": "TensorFlow 2.3 on Python 3.6 (CUDA 10.1)",
   "language": "python",
   "name": "python3"
  },
  "language_info": {
   "codemirror_mode": {
    "name": "ipython",
    "version": 3
   },
   "file_extension": ".py",
   "mimetype": "text/x-python",
   "name": "python",
   "nbconvert_exporter": "python",
   "pygments_lexer": "ipython3",
   "version": "3.6.9"
  }
 },
 "nbformat": 4,
 "nbformat_minor": 4
}
