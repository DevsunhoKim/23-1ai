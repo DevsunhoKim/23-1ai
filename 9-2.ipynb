{
 "cells": [
  {
   "cell_type": "markdown",
   "metadata": {},
   "source": [
    "# 순환 신경망으로 IMDB 리뷰 분류하기"
   ]
  },
  {
   "cell_type": "markdown",
   "metadata": {},
   "source": [
    "<table align=\"left\">\n",
    "  <td>\n",
    "    <a target=\"_blank\" href=\"https://colab.research.google.com/github/rickiepark/hg-mldl/blob/master/9-2.ipynb\"><img src=\"https://www.tensorflow.org/images/colab_logo_32px.png\" />구글 코랩에서 실행하기</a>\n",
    "  </td>\n",
    "</table>"
   ]
  },
  {
   "cell_type": "markdown",
   "metadata": {},
   "source": [
    "## IMDB 리뷰 데이터셋"
   ]
  },
  {
   "cell_type": "code",
   "execution_count": 1,
   "metadata": {
    "execution": {
     "iopub.execute_input": "2020-10-12T01:18:41.979392Z",
     "iopub.status.busy": "2020-10-12T01:18:41.978299Z",
     "iopub.status.idle": "2020-10-12T01:18:52.473300Z",
     "shell.execute_reply": "2020-10-12T01:18:52.471703Z"
    }
   },
   "outputs": [],
   "source": [
    "from tensorflow.keras.datasets import imdb\n",
    "\n",
    "(train_input, train_target), (test_input, test_target) = imdb.load_data(\n",
    "    num_words=500)"
   ]
  },
  {
   "cell_type": "code",
   "execution_count": 2,
   "metadata": {
    "execution": {
     "iopub.execute_input": "2020-10-12T01:18:52.481400Z",
     "iopub.status.busy": "2020-10-12T01:18:52.479645Z",
     "iopub.status.idle": "2020-10-12T01:18:52.485658Z",
     "shell.execute_reply": "2020-10-12T01:18:52.486465Z"
    }
   },
   "outputs": [
    {
     "name": "stdout",
     "output_type": "stream",
     "text": [
      "(25000,) (25000,)\n"
     ]
    }
   ],
   "source": [
    "print(train_input.shape, test_input.shape)"
   ]
  },
  {
   "cell_type": "code",
   "execution_count": 3,
   "metadata": {
    "execution": {
     "iopub.execute_input": "2020-10-12T01:18:52.493608Z",
     "iopub.status.busy": "2020-10-12T01:18:52.492625Z",
     "iopub.status.idle": "2020-10-12T01:18:52.496804Z",
     "shell.execute_reply": "2020-10-12T01:18:52.497722Z"
    }
   },
   "outputs": [
    {
     "name": "stdout",
     "output_type": "stream",
     "text": [
      "218\n"
     ]
    }
   ],
   "source": [
    "print(len(train_input[0]))"
   ]
  },
  {
   "cell_type": "code",
   "execution_count": 4,
   "metadata": {
    "execution": {
     "iopub.execute_input": "2020-10-12T01:18:52.504933Z",
     "iopub.status.busy": "2020-10-12T01:18:52.503811Z",
     "iopub.status.idle": "2020-10-12T01:18:52.508252Z",
     "shell.execute_reply": "2020-10-12T01:18:52.509172Z"
    }
   },
   "outputs": [
    {
     "name": "stdout",
     "output_type": "stream",
     "text": [
      "189\n"
     ]
    }
   ],
   "source": [
    "print(len(train_input[1]))"
   ]
  },
  {
   "cell_type": "code",
   "execution_count": 5,
   "metadata": {
    "execution": {
     "iopub.execute_input": "2020-10-12T01:18:52.516102Z",
     "iopub.status.busy": "2020-10-12T01:18:52.515014Z",
     "iopub.status.idle": "2020-10-12T01:18:52.520096Z",
     "shell.execute_reply": "2020-10-12T01:18:52.520972Z"
    }
   },
   "outputs": [
    {
     "name": "stdout",
     "output_type": "stream",
     "text": [
      "[1, 14, 22, 16, 43, 2, 2, 2, 2, 65, 458, 2, 66, 2, 4, 173, 36, 256, 5, 25, 100, 43, 2, 112, 50, 2, 2, 9, 35, 480, 284, 5, 150, 4, 172, 112, 167, 2, 336, 385, 39, 4, 172, 2, 2, 17, 2, 38, 13, 447, 4, 192, 50, 16, 6, 147, 2, 19, 14, 22, 4, 2, 2, 469, 4, 22, 71, 87, 12, 16, 43, 2, 38, 76, 15, 13, 2, 4, 22, 17, 2, 17, 12, 16, 2, 18, 2, 5, 62, 386, 12, 8, 316, 8, 106, 5, 4, 2, 2, 16, 480, 66, 2, 33, 4, 130, 12, 16, 38, 2, 5, 25, 124, 51, 36, 135, 48, 25, 2, 33, 6, 22, 12, 215, 28, 77, 52, 5, 14, 407, 16, 82, 2, 8, 4, 107, 117, 2, 15, 256, 4, 2, 7, 2, 5, 2, 36, 71, 43, 2, 476, 26, 400, 317, 46, 7, 4, 2, 2, 13, 104, 88, 4, 381, 15, 297, 98, 32, 2, 56, 26, 141, 6, 194, 2, 18, 4, 226, 22, 21, 134, 476, 26, 480, 5, 144, 30, 2, 18, 51, 36, 28, 224, 92, 25, 104, 4, 226, 65, 16, 38, 2, 88, 12, 16, 283, 5, 16, 2, 113, 103, 32, 15, 16, 2, 19, 178, 32]\n"
     ]
    }
   ],
   "source": [
    "print(train_input[0])"
   ]
  },
  {
   "cell_type": "code",
   "execution_count": 6,
   "metadata": {
    "execution": {
     "iopub.execute_input": "2020-10-12T01:18:52.528598Z",
     "iopub.status.busy": "2020-10-12T01:18:52.527510Z",
     "iopub.status.idle": "2020-10-12T01:18:52.532011Z",
     "shell.execute_reply": "2020-10-12T01:18:52.532936Z"
    }
   },
   "outputs": [
    {
     "name": "stdout",
     "output_type": "stream",
     "text": [
      "[1 0 0 1 0 0 1 0 1 0 1 0 0 0 0 0 1 1 0 1]\n"
     ]
    }
   ],
   "source": [
    "print(train_target[:20])"
   ]
  },
  {
   "cell_type": "code",
   "execution_count": 7,
   "metadata": {
    "execution": {
     "iopub.execute_input": "2020-10-12T01:18:52.541031Z",
     "iopub.status.busy": "2020-10-12T01:18:52.539873Z",
     "iopub.status.idle": "2020-10-12T01:18:52.812559Z",
     "shell.execute_reply": "2020-10-12T01:18:52.810985Z"
    }
   },
   "outputs": [],
   "source": [
    "from sklearn.model_selection import train_test_split\n",
    "\n",
    "train_input, val_input, train_target, val_target = train_test_split(\n",
    "    train_input, train_target, test_size=0.2, random_state=42)"
   ]
  },
  {
   "cell_type": "code",
   "execution_count": 8,
   "metadata": {
    "execution": {
     "iopub.execute_input": "2020-10-12T01:18:52.833360Z",
     "iopub.status.busy": "2020-10-12T01:18:52.831841Z",
     "iopub.status.idle": "2020-10-12T01:18:52.834920Z",
     "shell.execute_reply": "2020-10-12T01:18:52.836117Z"
    }
   },
   "outputs": [],
   "source": [
    "import numpy as np\n",
    "\n",
    "lengths = np.array([len(x) for x in train_input])"
   ]
  },
  {
   "cell_type": "code",
   "execution_count": 9,
   "metadata": {
    "execution": {
     "iopub.execute_input": "2020-10-12T01:18:52.843759Z",
     "iopub.status.busy": "2020-10-12T01:18:52.842297Z",
     "iopub.status.idle": "2020-10-12T01:18:52.847506Z",
     "shell.execute_reply": "2020-10-12T01:18:52.848361Z"
    }
   },
   "outputs": [
    {
     "name": "stdout",
     "output_type": "stream",
     "text": [
      "239.00925 178.0\n"
     ]
    }
   ],
   "source": [
    "print(np.mean(lengths), np.median(lengths))"
   ]
  },
  {
   "cell_type": "code",
   "execution_count": 10,
   "metadata": {
    "execution": {
     "iopub.execute_input": "2020-10-12T01:18:52.874891Z",
     "iopub.status.busy": "2020-10-12T01:18:52.873857Z",
     "iopub.status.idle": "2020-10-12T01:18:53.042560Z",
     "shell.execute_reply": "2020-10-12T01:18:53.040898Z"
    }
   },
   "outputs": [
    {
     "data": {
      "image/png": "[encoded data removed]",
      "text/plain": [
       "<Figure size 432x288 with 1 Axes>"
      ]
     },
     "metadata": {
      "needs_background": "light"
     },
     "output_type": "display_data"
    }
   ],
   "source": [
    "import matplotlib.pyplot as plt\n",
    "\n",
    "plt.hist(lengths)\n",
    "plt.xlabel('length')\n",
    "plt.ylabel('frequency')\n",
    "plt.show()"
   ]
  },
  {
   "cell_type": "code",
   "execution_count": 11,
   "metadata": {
    "execution": {
     "iopub.execute_input": "2020-10-12T01:18:53.056410Z",
     "iopub.status.busy": "2020-10-12T01:18:53.054676Z",
     "iopub.status.idle": "2020-10-12T01:18:53.509881Z",
     "shell.execute_reply": "2020-10-12T01:18:53.507938Z"
    }
   },
   "outputs": [],
   "source": [
    "from tensorflow.keras.preprocessing.sequence import pad_sequences\n",
    "\n",
    "train_seq = pad_sequences(train_input, maxlen=100)"
   ]
  },
  {
   "cell_type": "code",
   "execution_count": 12,
   "metadata": {
    "execution": {
     "iopub.execute_input": "2020-10-12T01:18:53.516113Z",
     "iopub.status.busy": "2020-10-12T01:18:53.514858Z",
     "iopub.status.idle": "2020-10-12T01:18:53.519062Z",
     "shell.execute_reply": "2020-10-12T01:18:53.520171Z"
    }
   },
   "outputs": [
    {
     "name": "stdout",
     "output_type": "stream",
     "text": [
      "(20000, 100)\n"
     ]
    }
   ],
   "source": [
    "print(train_seq.shape)"
   ]
  },
  {
   "cell_type": "code",
   "execution_count": 13,
   "metadata": {
    "execution": {
     "iopub.execute_input": "2020-10-12T01:18:53.529088Z",
     "iopub.status.busy": "2020-10-12T01:18:53.527775Z",
     "iopub.status.idle": "2020-10-12T01:18:53.532885Z",
     "shell.execute_reply": "2020-10-12T01:18:53.533957Z"
    }
   },
   "outputs": [
    {
     "name": "stdout",
     "output_type": "stream",
     "text": [
      "[ 10   4  20   9   2 364 352   5  45   6   2   2  33 269   8   2 142   2\n",
      "   5   2  17  73  17 204   5   2  19  55   2   2  92  66 104  14  20  93\n",
      "  76   2 151  33   4  58  12 188   2 151  12 215  69 224 142  73 237   6\n",
      "   2   7   2   2 188   2 103  14  31  10  10 451   7   2   5   2  80  91\n",
      "   2  30   2  34  14  20 151  50  26 131  49   2  84  46  50  37  80  79\n",
      "   6   2  46   7  14  20  10  10 470 158]\n"
     ]
    }
   ],
   "source": [
    "print(train_seq[0])"
   ]
  },
  {
   "cell_type": "code",
   "execution_count": 14,
   "metadata": {
    "execution": {
     "iopub.execute_input": "2020-10-12T01:18:53.541335Z",
     "iopub.status.busy": "2020-10-12T01:18:53.540161Z",
     "iopub.status.idle": "2020-10-12T01:18:53.544735Z",
     "shell.execute_reply": "2020-10-12T01:18:53.545765Z"
    }
   },
   "outputs": [
    {
     "name": "stdout",
     "output_type": "stream",
     "text": [
      "[6, 2, 46, 7, 14, 20, 10, 10, 470, 158]\n"
     ]
    }
   ],
   "source": [
    "print(train_input[0][-10:])"
   ]
  },
  {
   "cell_type": "code",
   "execution_count": 15,
   "metadata": {
    "execution": {
     "iopub.execute_input": "2020-10-12T01:18:53.553993Z",
     "iopub.status.busy": "2020-10-12T01:18:53.552689Z",
     "iopub.status.idle": "2020-10-12T01:18:53.557009Z",
     "shell.execute_reply": "2020-10-12T01:18:53.558118Z"
    },
    "scrolled": true
   },
   "outputs": [
    {
     "name": "stdout",
     "output_type": "stream",
     "text": [
      "[  0   0   0   0   1   2 195  19  49   2   2 190   4   2 352   2 183  10\n",
      "  10  13  82  79   4   2  36  71 269   8   2  25  19  49   7   4   2   2\n",
      "   2   2   2  10  10  48  25  40   2  11   2   2  40   2   2   5   4   2\n",
      "   2  95  14 238  56 129   2  10  10  21   2  94 364 352   2   2  11 190\n",
      "  24 484   2   7  94 205 405  10  10  87   2  34  49   2   7   2   2   2\n",
      "   2   2 290   2  46  48  64  18   4   2]\n"
     ]
    }
   ],
   "source": [
    "print(train_seq[5])"
   ]
  },
  {
   "cell_type": "code",
   "execution_count": 16,
   "metadata": {
    "execution": {
     "iopub.execute_input": "2020-10-12T01:18:53.568279Z",
     "iopub.status.busy": "2020-10-12T01:18:53.566949Z",
     "iopub.status.idle": "2020-10-12T01:18:53.688571Z",
     "shell.execute_reply": "2020-10-12T01:18:53.687412Z"
    }
   },
   "outputs": [],
   "source": [
    "val_seq = pad_sequences(val_input, maxlen=100)"
   ]
  },
  {
   "cell_type": "markdown",
   "metadata": {},
   "source": [
    "## 순환 신경망 만들기"
   ]
  },
  {
   "cell_type": "code",
   "execution_count": 17,
   "metadata": {
    "execution": {
     "iopub.execute_input": "2020-10-12T01:18:53.702727Z",
     "iopub.status.busy": "2020-10-12T01:18:53.694374Z",
     "iopub.status.idle": "2020-10-12T01:18:55.997285Z",
     "shell.execute_reply": "2020-10-12T01:18:55.995617Z"
    }
   },
   "outputs": [],
   "source": [
    "from tensorflow import keras\n",
    "\n",
    "model = keras.Sequential()\n",
    "\n",
    "model.add(keras.layers.SimpleRNN(8, input_shape=(100, 500)))\n",
    "model.add(keras.layers.Dense(1, activation='sigmoid'))"
   ]
  },
  {
   "cell_type": "code",
   "execution_count": 18,
   "metadata": {
    "execution": {
     "iopub.execute_input": "2020-10-12T01:18:56.004523Z",
     "iopub.status.busy": "2020-10-12T01:18:56.002786Z",
     "iopub.status.idle": "2020-10-12T01:18:57.766487Z",
     "shell.execute_reply": "2020-10-12T01:18:57.764928Z"
    }
   },
   "outputs": [],
   "source": [
    "train_oh = keras.utils.to_categorical(train_seq)"
   ]
  },
  {
   "cell_type": "code",
   "execution_count": 19,
   "metadata": {
    "execution": {
     "iopub.execute_input": "2020-10-12T01:18:57.774226Z",
     "iopub.status.busy": "2020-10-12T01:18:57.772482Z",
     "iopub.status.idle": "2020-10-12T01:18:57.777731Z",
     "shell.execute_reply": "2020-10-12T01:18:57.778538Z"
    }
   },
   "outputs": [
    {
     "name": "stdout",
     "output_type": "stream",
     "text": [
      "(20000, 100, 500)\n"
     ]
    }
   ],
   "source": [
    "print(train_oh.shape)"
   ]
  },
  {
   "cell_type": "code",
   "execution_count": 20,
   "metadata": {
    "execution": {
     "iopub.execute_input": "2020-10-12T01:18:57.786369Z",
     "iopub.status.busy": "2020-10-12T01:18:57.785416Z",
     "iopub.status.idle": "2020-10-12T01:18:57.790217Z",
     "shell.execute_reply": "2020-10-12T01:18:57.791183Z"
    }
   },
   "outputs": [
    {
     "name": "stdout",
     "output_type": "stream",
     "text": [
      "[0. 0. 0. 0. 0. 0. 0. 0. 0. 0. 1. 0.]\n"
     ]
    }
   ],
   "source": [
    "print(train_oh[0][0][:12])"
   ]
  },
  {
   "cell_type": "code",
   "execution_count": 21,
   "metadata": {
    "execution": {
     "iopub.execute_input": "2020-10-12T01:18:57.798946Z",
     "iopub.status.busy": "2020-10-12T01:18:57.797788Z",
     "iopub.status.idle": "2020-10-12T01:18:57.802480Z",
     "shell.execute_reply": "2020-10-12T01:18:57.803390Z"
    }
   },
   "outputs": [
    {
     "name": "stdout",
     "output_type": "stream",
     "text": [
      "1.0\n"
     ]
    }
   ],
   "source": [
    "print(np.sum(train_oh[0][0]))"
   ]
  },
  {
   "cell_type": "code",
   "execution_count": 22,
   "metadata": {
    "execution": {
     "iopub.execute_input": "2020-10-12T01:18:57.810383Z",
     "iopub.status.busy": "2020-10-12T01:18:57.809293Z",
     "iopub.status.idle": "2020-10-12T01:18:58.247989Z",
     "shell.execute_reply": "2020-10-12T01:18:58.248931Z"
    }
   },
   "outputs": [],
   "source": [
    "val_oh = keras.utils.to_categorical(val_seq)"
   ]
  },
  {
   "cell_type": "code",
   "execution_count": 23,
   "metadata": {
    "execution": {
     "iopub.execute_input": "2020-10-12T01:18:58.256367Z",
     "iopub.status.busy": "2020-10-12T01:18:58.255252Z",
     "iopub.status.idle": "2020-10-12T01:18:58.261986Z",
     "shell.execute_reply": "2020-10-12T01:18:58.262846Z"
    }
   },
   "outputs": [
    {
     "name": "stdout",
     "output_type": "stream",
     "text": [
      "Model: \"sequential\"\n",
      "_________________________________________________________________\n",
      "Layer (type)                 Output Shape              Param #   \n",
      "=================================================================\n",
      "simple_rnn (SimpleRNN)       (None, 8)                 4072      \n",
      "_________________________________________________________________\n",
      "dense (Dense)                (None, 1)                 9         \n",
      "=================================================================\n",
      "Total params: 4,081\n",
      "Trainable params: 4,081\n",
      "Non-trainable params: 0\n",
      "_________________________________________________________________\n"
     ]
    }
   ],
   "source": [
    "model.summary()"
   ]
  },
  {
   "cell_type": "markdown",
   "metadata": {},
   "source": [
    "## 순환 신경망 훈련하기"
   ]
  },
  {
   "cell_type": "code",
   "execution_count": 24,
   "metadata": {
    "execution": {
     "iopub.execute_input": "2020-10-12T01:18:58.286672Z",
     "iopub.status.busy": "2020-10-12T01:18:58.285571Z",
     "iopub.status.idle": "2020-10-12T01:30:36.157752Z",
     "shell.execute_reply": "2020-10-12T01:30:36.159280Z"
    }
   },
   "outputs": [
    {
     "name": "stdout",
     "output_type": "stream",
     "text": [
      "Epoch 1/100\n",
      "313/313 [==============================] - 21s 68ms/step - loss: 0.6880 - accuracy: 0.5430 - val_loss: 0.6777 - val_accuracy: 0.5826\n",
      "Epoch 2/100\n",
      "313/313 [==============================] - 20s 63ms/step - loss: 0.6646 - accuracy: 0.6126 - val_loss: 0.6615 - val_accuracy: 0.6178\n",
      "Epoch 3/100\n",
      "313/313 [==============================] - 20s 63ms/step - loss: 0.6462 - accuracy: 0.6509 - val_loss: 0.6401 - val_accuracy: 0.6588\n",
      "Epoch 4/100\n",
      "313/313 [==============================] - 20s 63ms/step - loss: 0.6284 - accuracy: 0.6797 - val_loss: 0.6243 - val_accuracy: 0.6822\n",
      "Epoch 5/100\n",
      "313/313 [==============================] - 20s 63ms/step - loss: 0.6112 - accuracy: 0.7015 - val_loss: 0.6087 - val_accuracy: 0.6982\n",
      "Epoch 6/100\n",
      "313/313 [==============================] - 20s 64ms/step - loss: 0.5945 - accuracy: 0.7217 - val_loss: 0.5940 - val_accuracy: 0.7146\n",
      "Epoch 7/100\n",
      "313/313 [==============================] - 20s 63ms/step - loss: 0.5794 - accuracy: 0.7347 - val_loss: 0.5798 - val_accuracy: 0.7308\n",
      "Epoch 8/100\n",
      "313/313 [==============================] - 20s 63ms/step - loss: 0.5651 - accuracy: 0.7473 - val_loss: 0.5661 - val_accuracy: 0.7466\n",
      "Epoch 9/100\n",
      "313/313 [==============================] - 20s 63ms/step - loss: 0.5525 - accuracy: 0.7545 - val_loss: 0.5580 - val_accuracy: 0.7400\n",
      "Epoch 10/100\n",
      "313/313 [==============================] - 20s 62ms/step - loss: 0.5404 - accuracy: 0.7599 - val_loss: 0.5453 - val_accuracy: 0.7530\n",
      "Epoch 11/100\n",
      "313/313 [==============================] - 20s 63ms/step - loss: 0.5294 - accuracy: 0.7678 - val_loss: 0.5361 - val_accuracy: 0.7612\n",
      "Epoch 12/100\n",
      "313/313 [==============================] - 20s 63ms/step - loss: 0.5186 - accuracy: 0.7739 - val_loss: 0.5302 - val_accuracy: 0.7504\n",
      "Epoch 13/100\n",
      "313/313 [==============================] - 20s 63ms/step - loss: 0.5092 - accuracy: 0.7793 - val_loss: 0.5203 - val_accuracy: 0.7638\n",
      "Epoch 14/100\n",
      "313/313 [==============================] - 20s 63ms/step - loss: 0.5000 - accuracy: 0.7843 - val_loss: 0.5137 - val_accuracy: 0.7624\n",
      "Epoch 15/100\n",
      "313/313 [==============================] - 20s 63ms/step - loss: 0.4916 - accuracy: 0.7870 - val_loss: 0.5048 - val_accuracy: 0.7724\n",
      "Epoch 16/100\n",
      "313/313 [==============================] - 20s 63ms/step - loss: 0.4833 - accuracy: 0.7912 - val_loss: 0.4982 - val_accuracy: 0.7746\n",
      "Epoch 17/100\n",
      "313/313 [==============================] - 20s 63ms/step - loss: 0.4763 - accuracy: 0.7954 - val_loss: 0.4962 - val_accuracy: 0.7736\n",
      "Epoch 18/100\n",
      "313/313 [==============================] - 20s 63ms/step - loss: 0.4698 - accuracy: 0.7969 - val_loss: 0.4963 - val_accuracy: 0.7694\n",
      "Epoch 19/100\n",
      "313/313 [==============================] - 20s 63ms/step - loss: 0.4635 - accuracy: 0.8002 - val_loss: 0.4835 - val_accuracy: 0.7826\n",
      "Epoch 20/100\n",
      "313/313 [==============================] - 20s 63ms/step - loss: 0.4583 - accuracy: 0.8002 - val_loss: 0.4806 - val_accuracy: 0.7794\n",
      "Epoch 21/100\n",
      "313/313 [==============================] - 20s 63ms/step - loss: 0.4528 - accuracy: 0.8055 - val_loss: 0.4780 - val_accuracy: 0.7802\n",
      "Epoch 22/100\n",
      "313/313 [==============================] - 20s 63ms/step - loss: 0.4485 - accuracy: 0.8069 - val_loss: 0.4711 - val_accuracy: 0.7854\n",
      "Epoch 23/100\n",
      "313/313 [==============================] - 20s 63ms/step - loss: 0.4445 - accuracy: 0.8075 - val_loss: 0.4694 - val_accuracy: 0.7854\n",
      "Epoch 24/100\n",
      "313/313 [==============================] - 20s 63ms/step - loss: 0.4409 - accuracy: 0.8082 - val_loss: 0.4694 - val_accuracy: 0.7824\n",
      "Epoch 25/100\n",
      "313/313 [==============================] - 20s 63ms/step - loss: 0.4376 - accuracy: 0.8095 - val_loss: 0.4644 - val_accuracy: 0.7878\n",
      "Epoch 26/100\n",
      "313/313 [==============================] - 20s 63ms/step - loss: 0.4343 - accuracy: 0.8116 - val_loss: 0.4646 - val_accuracy: 0.7830\n",
      "Epoch 27/100\n",
      "313/313 [==============================] - 20s 63ms/step - loss: 0.4311 - accuracy: 0.8124 - val_loss: 0.4633 - val_accuracy: 0.7856\n",
      "Epoch 28/100\n",
      "313/313 [==============================] - 20s 63ms/step - loss: 0.4285 - accuracy: 0.8144 - val_loss: 0.4647 - val_accuracy: 0.7840\n",
      "Epoch 29/100\n",
      "313/313 [==============================] - 20s 63ms/step - loss: 0.4261 - accuracy: 0.8151 - val_loss: 0.4634 - val_accuracy: 0.7824\n",
      "Epoch 30/100\n",
      "313/313 [==============================] - 20s 63ms/step - loss: 0.4236 - accuracy: 0.8153 - val_loss: 0.4594 - val_accuracy: 0.7876\n",
      "Epoch 31/100\n",
      "313/313 [==============================] - 20s 63ms/step - loss: 0.4217 - accuracy: 0.8168 - val_loss: 0.4560 - val_accuracy: 0.7906\n",
      "Epoch 32/100\n",
      "313/313 [==============================] - 20s 63ms/step - loss: 0.4199 - accuracy: 0.8180 - val_loss: 0.4533 - val_accuracy: 0.7916\n",
      "Epoch 33/100\n",
      "313/313 [==============================] - 20s 63ms/step - loss: 0.4181 - accuracy: 0.8173 - val_loss: 0.4547 - val_accuracy: 0.7928\n",
      "Epoch 34/100\n",
      "313/313 [==============================] - 20s 63ms/step - loss: 0.4165 - accuracy: 0.8176 - val_loss: 0.4544 - val_accuracy: 0.7906\n",
      "Epoch 35/100\n",
      "313/313 [==============================] - 20s 63ms/step - loss: 0.4138 - accuracy: 0.8203 - val_loss: 0.4556 - val_accuracy: 0.7906\n"
     ]
    }
   ],
   "source": [
    "rmsprop = keras.optimizers.RMSprop(learning_rate=1e-4)\n",
    "model.compile(optimizer=rmsprop, loss='binary_crossentropy', \n",
    "              metrics=['accuracy'])\n",
    "\n",
    "checkpoint_cb = keras.callbacks.ModelCheckpoint('best-simplernn-model.h5')\n",
    "early_stopping_cb = keras.callbacks.EarlyStopping(patience=3,\n",
    "                                                  restore_best_weights=True)\n",
    "\n",
    "history = model.fit(train_oh, train_target, epochs=100, batch_size=64,\n",
    "                    validation_data=(val_oh, val_target),\n",
    "                    callbacks=[checkpoint_cb, early_stopping_cb])"
   ]
  },
  {
   "cell_type": "code",
   "execution_count": 25,
   "metadata": {
    "execution": {
     "iopub.execute_input": "2020-10-12T01:30:36.190161Z",
     "iopub.status.busy": "2020-10-12T01:30:36.175046Z",
     "iopub.status.idle": "2020-10-12T01:30:36.782577Z",
     "shell.execute_reply": "2020-10-12T01:30:36.784046Z"
    }
   },
   "outputs": [
    {
     "data": {
      "image/png": "[encoded data removed]",
      "text/plain": [
       "<Figure size 432x288 with 1 Axes>"
      ]
     },
     "metadata": {
      "needs_background": "light"
     },
     "output_type": "display_data"
    }
   ],
   "source": [
    "plt.plot(history.history['loss'])\n",
    "plt.plot(history.history['val_loss'])\n",
    "plt.xlabel('epoch')\n",
    "plt.ylabel('loss')\n",
    "plt.legend(['train', 'val'])\n",
    "plt.show()"
   ]
  },
  {
   "cell_type": "markdown",
   "metadata": {},
   "source": [
    "## 단어 임베딩을 사용하기"
   ]
  },
  {
   "cell_type": "code",
   "execution_count": 26,
   "metadata": {
    "execution": {
     "iopub.execute_input": "2020-10-12T01:30:36.795147Z",
     "iopub.status.busy": "2020-10-12T01:30:36.793959Z",
     "iopub.status.idle": "2020-10-12T01:30:37.414822Z",
     "shell.execute_reply": "2020-10-12T01:30:37.417021Z"
    }
   },
   "outputs": [
    {
     "name": "stdout",
     "output_type": "stream",
     "text": [
      "Model: \"sequential_1\"\n",
      "_________________________________________________________________\n",
      "Layer (type)                 Output Shape              Param #   \n",
      "=================================================================\n",
      "embedding (Embedding)        (None, 100, 16)           8000      \n",
      "_________________________________________________________________\n",
      "simple_rnn_1 (SimpleRNN)     (None, 8)                 200       \n",
      "_________________________________________________________________\n",
      "dense_1 (Dense)              (None, 1)                 9         \n",
      "=================================================================\n",
      "Total params: 8,209\n",
      "Trainable params: 8,209\n",
      "Non-trainable params: 0\n",
      "_________________________________________________________________\n"
     ]
    }
   ],
   "source": [
    "model2 = keras.Sequential()\n",
    "\n",
    "model2.add(keras.layers.Embedding(500, 16, input_length=100))\n",
    "model2.add(keras.layers.SimpleRNN(8))\n",
    "model2.add(keras.layers.Dense(1, activation='sigmoid'))\n",
    "\n",
    "model2.summary()"
   ]
  },
  {
   "cell_type": "code",
   "execution_count": 27,
   "metadata": {
    "execution": {
     "iopub.execute_input": "2020-10-12T01:30:37.439013Z",
     "iopub.status.busy": "2020-10-12T01:30:37.437655Z",
     "iopub.status.idle": "2020-10-12T01:40:38.584921Z",
     "shell.execute_reply": "2020-10-12T01:40:38.586340Z"
    }
   },
   "outputs": [
    {
     "name": "stdout",
     "output_type": "stream",
     "text": [
      "Epoch 1/100\n",
      "313/313 [==============================] - 20s 63ms/step - loss: 0.6936 - accuracy: 0.5196 - val_loss: 0.6824 - val_accuracy: 0.5746\n",
      "Epoch 2/100\n",
      "313/313 [==============================] - 19s 62ms/step - loss: 0.6725 - accuracy: 0.6146 - val_loss: 0.6611 - val_accuracy: 0.6450\n",
      "Epoch 3/100\n",
      "313/313 [==============================] - 19s 62ms/step - loss: 0.6474 - accuracy: 0.6702 - val_loss: 0.6382 - val_accuracy: 0.6874\n",
      "Epoch 4/100\n",
      "313/313 [==============================] - 19s 62ms/step - loss: 0.6219 - accuracy: 0.7061 - val_loss: 0.6141 - val_accuracy: 0.7086\n",
      "Epoch 5/100\n",
      "313/313 [==============================] - 19s 62ms/step - loss: 0.5948 - accuracy: 0.7304 - val_loss: 0.5910 - val_accuracy: 0.7276\n",
      "Epoch 6/100\n",
      "313/313 [==============================] - 19s 62ms/step - loss: 0.5703 - accuracy: 0.7476 - val_loss: 0.5713 - val_accuracy: 0.7412\n",
      "Epoch 7/100\n",
      "313/313 [==============================] - 19s 61ms/step - loss: 0.5482 - accuracy: 0.7622 - val_loss: 0.5546 - val_accuracy: 0.7454\n",
      "Epoch 8/100\n",
      "313/313 [==============================] - 19s 61ms/step - loss: 0.5284 - accuracy: 0.7716 - val_loss: 0.5386 - val_accuracy: 0.7476\n",
      "Epoch 9/100\n",
      "313/313 [==============================] - 19s 62ms/step - loss: 0.5110 - accuracy: 0.7812 - val_loss: 0.5243 - val_accuracy: 0.7534\n",
      "Epoch 10/100\n",
      "313/313 [==============================] - 19s 62ms/step - loss: 0.4955 - accuracy: 0.7877 - val_loss: 0.5129 - val_accuracy: 0.7598\n",
      "Epoch 11/100\n",
      "313/313 [==============================] - 19s 62ms/step - loss: 0.4829 - accuracy: 0.7936 - val_loss: 0.4998 - val_accuracy: 0.7722\n",
      "Epoch 12/100\n",
      "313/313 [==============================] - 19s 62ms/step - loss: 0.4715 - accuracy: 0.7987 - val_loss: 0.4910 - val_accuracy: 0.7820\n",
      "Epoch 13/100\n",
      "313/313 [==============================] - 19s 62ms/step - loss: 0.4620 - accuracy: 0.8009 - val_loss: 0.4852 - val_accuracy: 0.7784\n",
      "Epoch 14/100\n",
      "313/313 [==============================] - 19s 62ms/step - loss: 0.4540 - accuracy: 0.8057 - val_loss: 0.4773 - val_accuracy: 0.7834\n",
      "Epoch 15/100\n",
      "313/313 [==============================] - 19s 61ms/step - loss: 0.4467 - accuracy: 0.8065 - val_loss: 0.4763 - val_accuracy: 0.7824\n",
      "Epoch 16/100\n",
      "313/313 [==============================] - 19s 62ms/step - loss: 0.4401 - accuracy: 0.8105 - val_loss: 0.4716 - val_accuracy: 0.7894\n",
      "Epoch 17/100\n",
      "313/313 [==============================] - 19s 62ms/step - loss: 0.4340 - accuracy: 0.8117 - val_loss: 0.4673 - val_accuracy: 0.7896\n",
      "Epoch 18/100\n",
      "313/313 [==============================] - 19s 62ms/step - loss: 0.4291 - accuracy: 0.8148 - val_loss: 0.4665 - val_accuracy: 0.7906\n",
      "Epoch 19/100\n",
      "313/313 [==============================] - 19s 62ms/step - loss: 0.4245 - accuracy: 0.8149 - val_loss: 0.4659 - val_accuracy: 0.7910\n",
      "Epoch 20/100\n",
      "313/313 [==============================] - 19s 62ms/step - loss: 0.4196 - accuracy: 0.8177 - val_loss: 0.4615 - val_accuracy: 0.7932\n",
      "Epoch 21/100\n",
      "313/313 [==============================] - 19s 62ms/step - loss: 0.4158 - accuracy: 0.8202 - val_loss: 0.4650 - val_accuracy: 0.7910\n",
      "Epoch 22/100\n",
      "313/313 [==============================] - 19s 61ms/step - loss: 0.4124 - accuracy: 0.8233 - val_loss: 0.4612 - val_accuracy: 0.7948\n",
      "Epoch 23/100\n",
      "313/313 [==============================] - 19s 61ms/step - loss: 0.4084 - accuracy: 0.8239 - val_loss: 0.4607 - val_accuracy: 0.7880\n",
      "Epoch 24/100\n",
      "313/313 [==============================] - 19s 62ms/step - loss: 0.4050 - accuracy: 0.8271 - val_loss: 0.4660 - val_accuracy: 0.7908\n",
      "Epoch 25/100\n",
      "313/313 [==============================] - 19s 62ms/step - loss: 0.4022 - accuracy: 0.8286 - val_loss: 0.4606 - val_accuracy: 0.7938\n",
      "Epoch 26/100\n",
      "313/313 [==============================] - 19s 62ms/step - loss: 0.3997 - accuracy: 0.8287 - val_loss: 0.4590 - val_accuracy: 0.7952\n",
      "Epoch 27/100\n",
      "313/313 [==============================] - 19s 62ms/step - loss: 0.3967 - accuracy: 0.8310 - val_loss: 0.4604 - val_accuracy: 0.7930\n",
      "Epoch 28/100\n",
      "313/313 [==============================] - 19s 61ms/step - loss: 0.3939 - accuracy: 0.8322 - val_loss: 0.4575 - val_accuracy: 0.7934\n",
      "Epoch 29/100\n",
      "313/313 [==============================] - 19s 62ms/step - loss: 0.3916 - accuracy: 0.8328 - val_loss: 0.4776 - val_accuracy: 0.7842\n",
      "Epoch 30/100\n",
      "313/313 [==============================] - 19s 61ms/step - loss: 0.3903 - accuracy: 0.8343 - val_loss: 0.4597 - val_accuracy: 0.7944\n",
      "Epoch 31/100\n",
      "313/313 [==============================] - 19s 61ms/step - loss: 0.3876 - accuracy: 0.8341 - val_loss: 0.4610 - val_accuracy: 0.7940\n"
     ]
    }
   ],
   "source": [
    "rmsprop = keras.optimizers.RMSprop(learning_rate=1e-4)\n",
    "model2.compile(optimizer=rmsprop, loss='binary_crossentropy', \n",
    "               metrics=['accuracy'])\n",
    "\n",
    "checkpoint_cb = keras.callbacks.ModelCheckpoint('best-embedding-model.h5')\n",
    "early_stopping_cb = keras.callbacks.EarlyStopping(patience=3,\n",
    "                                                  restore_best_weights=True)\n",
    "\n",
    "history = model2.fit(train_seq, train_target, epochs=100, batch_size=64,\n",
    "                     validation_data=(val_seq, val_target),\n",
    "                     callbacks=[checkpoint_cb, early_stopping_cb])"
   ]
  },
  {
   "cell_type": "code",
   "execution_count": 28,
   "metadata": {
    "execution": {
     "iopub.execute_input": "2020-10-12T01:40:38.604725Z",
     "iopub.status.busy": "2020-10-12T01:40:38.602954Z",
     "iopub.status.idle": "2020-10-12T01:40:39.220316Z",
     "shell.execute_reply": "2020-10-12T01:40:39.221611Z"
    }
   },
   "outputs": [
    {
     "data": {
      "image/png": "[encoded data removed]",
      "text/plain": [
       "<Figure size 432x288 with 1 Axes>"
      ]
     },
     "metadata": {
      "needs_background": "light"
     },
     "output_type": "display_data"
    }
   ],
   "source": [
    "plt.plot(history.history['loss'])\n",
    "plt.plot(history.history['val_loss'])\n",
    "plt.xlabel('epoch')\n",
    "plt.ylabel('loss')\n",
    "plt.legend(['train', 'val'])\n",
    "plt.show()"
   ]
  }
 ],
 "metadata": {
  "kernelspec": {
   "display_name": "TensorFlow 2.3 on Python 3.6 (CUDA 10.1)",
   "language": "python",
   "name": "python3"
  },
  "language_info": {
   "codemirror_mode": {
    "name": "ipython",
    "version": 3
   },
   "file_extension": ".py",
   "mimetype": "text/x-python",
   "name": "python",
   "nbconvert_exporter": "python",
   "pygments_lexer": "ipython3",
   "version": "3.6.9"
  }
 },
 "nbformat": 4,
 "nbformat_minor": 4
}
